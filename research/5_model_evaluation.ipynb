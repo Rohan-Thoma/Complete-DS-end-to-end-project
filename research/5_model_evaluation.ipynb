{
 "cells": [
  {
   "cell_type": "code",
   "execution_count": 2,
   "id": "2777a60c",
   "metadata": {},
   "outputs": [
    {
     "data": {
      "text/plain": [
       "'/home/dragon/Complete-DS-end-to-end-project/research'"
      ]
     },
     "execution_count": 2,
     "metadata": {},
     "output_type": "execute_result"
    }
   ],
   "source": [
    "%pwd"
   ]
  },
  {
   "cell_type": "code",
   "execution_count": null,
   "id": "6dd3c772",
   "metadata": {},
   "outputs": [
    {
     "data": {
      "text/plain": [
       "'/home/dragon/Complete-DS-end-to-end-project'"
      ]
     },
     "execution_count": 3,
     "metadata": {},
     "output_type": "execute_result"
    }
   ],
   "source": [
    "import os\n",
    "os.chdir(\"../\")\n",
    "%pwd"
   ]
  },
  {
   "cell_type": "code",
   "execution_count": null,
   "id": "16c100b4",
   "metadata": {},
   "outputs": [],
   "source": [
    "from dotenv import load_dotenv\n",
    "\n",
    "load_dotenv() "
   ]
  },
  {
   "cell_type": "code",
   "execution_count": 4,
   "id": "46ffed5c",
   "metadata": {},
   "outputs": [],
   "source": [
    "from dataclasses import dataclass\n",
    "from pathlib import Path\n",
    "\n",
    "@dataclass\n",
    "class ModelEvaluationConfig:\n",
    "    root_dir: Path\n",
    "    test_data_dir: Path \n",
    "    model_path: Path \n",
    "    all_params: dict \n",
    "    target_column: str \n",
    "    metric_file_name: Path\n",
    "    mlflow_uri: str  \n"
   ]
  },
  {
   "cell_type": "code",
   "execution_count": 5,
   "id": "3b6bbdf6",
   "metadata": {},
   "outputs": [],
   "source": [
    "from src.datascience_project.constants import *\n",
    "from src.datascience_project.utils.common import read_yaml, create_directories, save_json\n",
    "\n",
    "class ConfigurationManager:\n",
    "    def __init__(self, \n",
    "                 config_filepath=CONFIG_FILE_PATH,\n",
    "                 params_filepath=PARAMS_FILE_PATH,\n",
    "                 schema_filepath=SCHEMA_FILE_PATH):\n",
    "        self.config= read_yaml(config_filepath)\n",
    "        self.params=read_yaml(params_filepath)\n",
    "        self.schema=read_yaml(schema_filepath)\n",
    "\n",
    "        create_directories([self.config.artifacts_root])\n",
    "\n",
    "    def get_model_evaluation_config(self) -> ModelEvaluationConfig:\n",
    "        config = self.config.model_evaluation\n",
    "        params = self.params.ElasticNet\n",
    "        schema = self.schema.TARGET_COLUMN\n",
    "        create_directories([config.root_dir])\n",
    "\n",
    "        model_evaluation_config = ModelEvaluationConfig(\n",
    "            root_dir=config.root_dir,\n",
    "            test_data_dir=config.test_data_path,\n",
    "            target_column= schema.name,\n",
    "            metric_file_name= config.metric_file_name,\n",
    "            all_params=params,\n",
    "            model_path=config.model_path,\n",
    "            mlflow_uri= \"https://dagshub.com/lolguy699/Complete-DS-end-to-end-project.mlflow\"\n",
    "        )\n",
    "\n",
    "        return model_evaluation_config\n"
   ]
  },
  {
   "cell_type": "code",
   "execution_count": 6,
   "id": "17397820",
   "metadata": {},
   "outputs": [],
   "source": [
    "import pandas as pd \n",
    "import os \n",
    "from sklearn.metrics import mean_squared_error, mean_absolute_error,r2_score\n",
    "from urllib.parse import urlparse\n",
    "import mlflow\n",
    "import mlflow.sklearn\n",
    "import numpy as np \n",
    "import joblib \n",
    "\n",
    "class ModelEvaluation:\n",
    "    def __init__(self, config: ModelEvaluationConfig):\n",
    "        self.config = config \n",
    "\n",
    "    def eval_metrics(self, actual, pred):\n",
    "        rmse= np.sqrt(mean_absolute_error(actual, pred))\n",
    "        mae = mean_absolute_error(actual, pred)\n",
    "        r2 = r2_score(actual, pred)\n",
    "        return rmse, mae, r2 \n",
    "    \n",
    "    def log_into_mlflow(self):\n",
    "\n",
    "        test_data = pd.read_csv(self.config.test_data_dir)\n",
    "        model = joblib.load(self.config.model_path)\n",
    "\n",
    "        test_x = test_data.drop([self.config.target_column], axis=1)\n",
    "        test_y = test_data[[self.config.target_column]]\n",
    "\n",
    "        mlflow.set_registry_uri(self.config.mlflow_uri)\n",
    "        tracking_url_type_store = urlparse(mlflow.get_tracking_uri()).scheme  \n",
    "\n",
    "\n",
    "        with mlflow.start_run():\n",
    "\n",
    "            predicted_qualities = model.predict(test_x)\n",
    "\n",
    "            (rmse,mae,r2)= self.eval_metrics(test_y, predicted_qualities)\n",
    "\n",
    "            #saving the metrics as local\n",
    "            scores = {'rmse':rmse,'mae':mae,'r2':r2}\n",
    "            save_json(path=Path(self.config.metric_file_name), data= scores)\n",
    "\n",
    "            mlflow.log_params(self.config.all_params)\n",
    "            mlflow.log_metric(\"rmse\",rmse)\n",
    "            mlflow.log_metric(\"mae\",mae)\n",
    "            mlflow.log_metric(\"r2\",r2)\n",
    "\n",
    "            #Model registry does not work with file store\n",
    "            if tracking_url_type_store != 'file':\n",
    "\n",
    "                #register the model\n",
    "                # There are other ways to use the model registry , which depends on the use caes\n",
    "                # pLease refer to the doc for more information\n",
    "                # https://mlflow.org/docs/latest/model-registry.html#api-workflow\n",
    "\n",
    "                mlflow.sklearn.log_model(model, \"model\", registered_model_name=\"ElasticNetModel\")\n",
    "            else:\n",
    "                mlflow.sklearn.log_model(model, \"model\")     \n"
   ]
  },
  {
   "cell_type": "code",
   "execution_count": 7,
   "id": "9e2407fa",
   "metadata": {},
   "outputs": [
    {
     "name": "stdout",
     "output_type": "stream",
     "text": [
      "[2025-06-15 20:27:17,248: INFO: common: yaml file: config/config.yaml loaded sucessfully]\n",
      "[2025-06-15 20:27:17,254: INFO: common: yaml file: params.yaml loaded sucessfully]\n",
      "[2025-06-15 20:27:17,258: INFO: common: yaml file: schema.yaml loaded sucessfully]\n",
      "[2025-06-15 20:27:17,260: INFO: common: created directory at: artifacts]\n",
      "[2025-06-15 20:27:17,270: INFO: common: created directory at: artifacts/model_evaluation]\n",
      "[2025-06-15 20:27:18,377: INFO: common: json file saved at: artifacts/model_evaluation/metrics.json]\n"
     ]
    },
    {
     "name": "stderr",
     "output_type": "stream",
     "text": [
      "\u001b[31m2025/06/15 20:27:25 WARNING mlflow.models.model: Model logged without a signature and input example. Please set `input_example` parameter when logging the model to auto infer the model signature.\u001b[0m\n",
      "Successfully registered model 'ElasticNetModel'.\n",
      "2025/06/15 20:27:30 INFO mlflow.store.model_registry.abstract_store: Waiting up to 300 seconds for model version to finish creation. Model name: ElasticNetModel, version 1\n",
      "Created version '1' of model 'ElasticNetModel'.\n"
     ]
    },
    {
     "name": "stdout",
     "output_type": "stream",
     "text": [
      "🏃 View run intrigued-newt-176 at: https://dagshub.com/lolguy699/Complete-DS-end-to-end-project.mlflow/#/experiments/0/runs/4062ee6e5efa41919099b213a5762ba4\n",
      "🧪 View experiment at: https://dagshub.com/lolguy699/Complete-DS-end-to-end-project.mlflow/#/experiments/0\n"
     ]
    }
   ],
   "source": [
    "try:\n",
    "    config=ConfigurationManager()\n",
    "    model_evaluation_config=config.get_model_evaluation_config()\n",
    "    model_evaluation=ModelEvaluation(config=model_evaluation_config)\n",
    "    model_evaluation.log_into_mlflow()\n",
    "except Exception as e:\n",
    "    raise e"
   ]
  }
 ],
 "metadata": {
  "kernelspec": {
   "display_name": "mlops",
   "language": "python",
   "name": "python3"
  },
  "language_info": {
   "codemirror_mode": {
    "name": "ipython",
    "version": 3
   },
   "file_extension": ".py",
   "mimetype": "text/x-python",
   "name": "python",
   "nbconvert_exporter": "python",
   "pygments_lexer": "ipython3",
   "version": "3.10.12"
  }
 },
 "nbformat": 4,
 "nbformat_minor": 5
}
